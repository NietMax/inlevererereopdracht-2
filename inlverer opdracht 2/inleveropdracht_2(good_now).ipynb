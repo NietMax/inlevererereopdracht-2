{
 "cells": [
  {
   "cell_type": "code",
   "execution_count": 1,
   "metadata": {},
   "outputs": [],
   "source": [
    "import numpy as np\n",
    "from sklearn.datasets import load_iris\n",
    "from sklearn.model_selection import train_test_split\n",
    "from sklearn.neural_network import MLPClassifier\n"
   ]
  },
  {
   "cell_type": "code",
   "execution_count": 2,
   "metadata": {},
   "outputs": [],
   "source": [
    "data = load_iris()\n",
    "X, y = data.data, data.target\n",
    "X_train, X_test, y_train, y_test = train_test_split(X, y, test_size=0.2, random_state=42)\n"
   ]
  },
  {
   "cell_type": "code",
   "execution_count": 3,
   "metadata": {},
   "outputs": [],
   "source": [
    "activation_functions = ['logistic', 'tanh', 'relu']\n",
    "hidden_layer_sizes = [10, 20, 30, 40]\n"
   ]
  },
  {
   "cell_type": "code",
   "execution_count": 4,
   "metadata": {},
   "outputs": [],
   "source": [
    "def evaluate_individual(activation_function, hidden_layer_size):\n",
    "    clf = MLPClassifier(hidden_layer_sizes=(hidden_layer_size,), activation=activation_function, max_iter=5000, random_state=42)\n",
    "    clf.fit(X_train, y_train)\n",
    "    accuracy = clf.score(X_test, y_test)\n",
    "    return accuracy\n",
    "\n",
    "def genetic_algorithm(population_size, generations):\n",
    "    population = []\n",
    "\n",
    "    for _ in range(population_size):\n",
    "        activation_function = np.random.choice(activation_functions)\n",
    "        hidden_layer_size = np.random.choice(hidden_layer_sizes)\n",
    "        individual = (activation_function, hidden_layer_size)\n",
    "        population.append(individual)\n",
    "\n",
    "    for generation in range(generations):\n",
    "        scores = [evaluate_individual(activation_function, hidden_layer_size) for activation_function, hidden_layer_size in population]\n",
    "        selected_indices = np.argsort(scores)[::-1][:int(population_size * 0.2)]\n",
    "        selected_population = [population[i] for i in selected_indices]\n",
    "\n",
    "        new_population = []\n",
    "        for _ in range(population_size):\n",
    "            index1, index2 = np.random.choice(len(selected_population), size=2, replace=False)  # Selecteer twee verschillende indices\n",
    "            parent1 = selected_population[index1]\n",
    "            parent2 = selected_population[index2]\n",
    "            parent1_activation_function, parent1_hidden_layer_size = parent1\n",
    "            parent2_activation_function, parent2_hidden_layer_size = parent2\n",
    "            child = (parent1_activation_function, parent2_hidden_layer_size)  # Eenvoudige kruising\n",
    "            new_population.append(child)\n",
    "\n",
    "        population = new_population\n",
    "\n",
    "    best_individual = max(population, key=lambda ind: evaluate_individual(ind[0], ind[1]))\n",
    "    return best_individual"
   ]
  },
  {
   "cell_type": "code",
   "execution_count": 5,
   "metadata": {},
   "outputs": [
    {
     "ename": "ValueError",
     "evalue": "a must be 1-dimensional",
     "output_type": "error",
     "traceback": [
      "\u001b[1;31m---------------------------------------------------------------------------\u001b[0m",
      "\u001b[1;31mValueError\u001b[0m                                Traceback (most recent call last)",
      "\u001b[1;32md:\\School\\BD02\\BLok_1_2023\\PI7\\inlevererereopdracht-2\\try.ipynb Cell 5\u001b[0m line \u001b[0;36m1\n\u001b[1;32m----> <a href='vscode-notebook-cell:/d%3A/School/BD02/BLok_1_2023/PI7/inlevererereopdracht-2/try.ipynb#W4sZmlsZQ%3D%3D?line=0'>1</a>\u001b[0m best_hyperparameters \u001b[39m=\u001b[39m genetic_algorithm(population_size\u001b[39m=\u001b[39;49m\u001b[39m50\u001b[39;49m, generations\u001b[39m=\u001b[39;49m\u001b[39m10\u001b[39;49m)\n\u001b[0;32m      <a href='vscode-notebook-cell:/d%3A/School/BD02/BLok_1_2023/PI7/inlevererereopdracht-2/try.ipynb#W4sZmlsZQ%3D%3D?line=1'>2</a>\u001b[0m \u001b[39mprint\u001b[39m(\u001b[39m\"\u001b[39m\u001b[39mOptimale hyperparameters:\u001b[39m\u001b[39m\"\u001b[39m, best_hyperparameters)\n",
      "\u001b[1;32md:\\School\\BD02\\BLok_1_2023\\PI7\\inlevererereopdracht-2\\try.ipynb Cell 5\u001b[0m line \u001b[0;36m2\n\u001b[0;32m     <a href='vscode-notebook-cell:/d%3A/School/BD02/BLok_1_2023/PI7/inlevererereopdracht-2/try.ipynb#W4sZmlsZQ%3D%3D?line=20'>21</a>\u001b[0m new_population \u001b[39m=\u001b[39m []\n\u001b[0;32m     <a href='vscode-notebook-cell:/d%3A/School/BD02/BLok_1_2023/PI7/inlevererereopdracht-2/try.ipynb#W4sZmlsZQ%3D%3D?line=21'>22</a>\u001b[0m \u001b[39mfor\u001b[39;00m _ \u001b[39min\u001b[39;00m \u001b[39mrange\u001b[39m(population_size):\n\u001b[1;32m---> <a href='vscode-notebook-cell:/d%3A/School/BD02/BLok_1_2023/PI7/inlevererereopdracht-2/try.ipynb#W4sZmlsZQ%3D%3D?line=22'>23</a>\u001b[0m     parent1, parent2 \u001b[39m=\u001b[39m np\u001b[39m.\u001b[39;49mrandom\u001b[39m.\u001b[39;49mchoice(selected_population, size\u001b[39m=\u001b[39;49m\u001b[39m2\u001b[39;49m)\n\u001b[0;32m     <a href='vscode-notebook-cell:/d%3A/School/BD02/BLok_1_2023/PI7/inlevererereopdracht-2/try.ipynb#W4sZmlsZQ%3D%3D?line=23'>24</a>\u001b[0m     parent1_activation_function, parent1_hidden_layer_size \u001b[39m=\u001b[39m parent1\n\u001b[0;32m     <a href='vscode-notebook-cell:/d%3A/School/BD02/BLok_1_2023/PI7/inlevererereopdracht-2/try.ipynb#W4sZmlsZQ%3D%3D?line=24'>25</a>\u001b[0m     parent2_activation_function, parent2_hidden_layer_size \u001b[39m=\u001b[39m parent2\n",
      "File \u001b[1;32mnumpy\\\\random\\\\mtrand.pyx:946\u001b[0m, in \u001b[0;36mnumpy.random.mtrand.RandomState.choice\u001b[1;34m()\u001b[0m\n",
      "\u001b[1;31mValueError\u001b[0m: a must be 1-dimensional"
     ]
    }
   ],
   "source": [
    "best_hyperparameters = genetic_algorithm(population_size=50, generations=10)\n",
    "print(\"Optimale hyperparameters:\", best_hyperparameters)\n"
   ]
  }
 ],
 "metadata": {
  "kernelspec": {
   "display_name": "Python 3",
   "language": "python",
   "name": "python3"
  },
  "language_info": {
   "codemirror_mode": {
    "name": "ipython",
    "version": 3
   },
   "file_extension": ".py",
   "mimetype": "text/x-python",
   "name": "python",
   "nbconvert_exporter": "python",
   "pygments_lexer": "ipython3",
   "version": "3.12.0"
  }
 },
 "nbformat": 4,
 "nbformat_minor": 2
}
