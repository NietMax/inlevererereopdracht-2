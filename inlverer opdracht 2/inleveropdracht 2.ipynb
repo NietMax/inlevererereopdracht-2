{
 "cells": [
  {
   "cell_type": "code",
   "execution_count": 1,
   "metadata": {},
   "outputs": [],
   "source": [
    "import random\n",
    "import numpy as np\n",
    "from deap import base, creator, tools, algorithms\n",
    "from sklearn.neural_network import MLPClassifier\n",
    "from sklearn.datasets import load_iris\n",
    "from sklearn.model_selection import cross_val_score\n",
    "import warnings\n",
    "import sklearn\n"
   ]
  },
  {
   "cell_type": "code",
   "execution_count": 2,
   "metadata": {},
   "outputs": [],
   "source": [
    "warnings.filterwarnings(\"ignore\")\n"
   ]
  },
  {
   "cell_type": "code",
   "execution_count": 3,
   "metadata": {},
   "outputs": [],
   "source": [
    "MLPRegressors= sklearn.neural_network.MLPRegressor\n"
   ]
  },
  {
   "cell_type": "code",
   "execution_count": 4,
   "metadata": {},
   "outputs": [],
   "source": [
    "def evaluate_individual(ind):\n",
    "    # Decodeer hyperparameters\n",
    "    hidden_layer_sizes = tuple(int(max(1, round(x))) for x in ind[0:6])  # Zorg ervoor dat er minstens één neuron is\n",
    "    activation = ['identity', 'logistic', 'tanh', 'relu'][int(ind[3])]\n",
    "    alpha = 10 ** ind[4]\n",
    "    learning_rate = ['constant', 'invscaling', 'adaptive'][int(ind[2])]\n",
    "    learning_rate_init = 10 ** ind[3]\n",
    "    power_t = ind[4]  # Geef het een geschikt bereik of conversie als dat nodig is\n",
    "    max_iter = int(ind[4])  # Zorg ervoor dat dit een geheel getal is\n",
    "    shuffle = bool(int(ind[4]))  # Converteer naar een bool-waarde (0 of 1)\n",
    "    random_state = int(ind[4]) if ind[4] >= 0 else None  # Zorg ervoor dat het een positief getal is of None\n",
    "    tol = 10 ** ind[4]\n",
    "    verbose = bool(int(ind[4]))  # Converteer naar een bool-waarde (0 of 1)\n",
    "    warm_start = bool(int(ind[4]))  # Converteer naar een bool-waarde (0 of 1)\n",
    "    momentum = ind[4]  # Geef het een geschikt bereik of conversie als dat nodig is\n",
    "    nesterovs_momentum = bool(int(ind[4]))  # Converteer naar een bool-waarde (0 of 1)\n",
    "    early_stopping = bool(int(ind[4]))  # Converteer naar een bool-waarde (0 of 1)\n",
    "    validation_fraction = ind[4]  # Geef het een geschikt bereik of conversie als dat nodig is\n",
    "    beta_1 = ind[4]  # Geef het een geschikt bereik of conversie als dat nodig is\n",
    "    beta_2 = ind[4]  # Geef het een geschikt bereik of conversie als dat nodig is\n",
    "    epsilon = 10 ** ind[4]\n",
    "    n_iter_no_change = int(ind[4])  # Zorg ervoor dat dit een geheel getal is\n",
    "    max_fun = max(1, int(ind[4]))  # Zorg ervoor dat dit een geheel getal is\n",
    "\n",
    "    # Bouw en evalueer het neurale netwerk\n",
    "    clf = MLPClassifier(hidden_layer_sizes=hidden_layer_sizes, activation=activation,\n",
    "                        alpha=alpha, learning_rate=learning_rate, learning_rate_init=learning_rate_init,\n",
    "                        power_t=power_t, max_iter=max_iter, shuffle=shuffle, random_state=random_state,\n",
    "                        tol=tol, verbose=verbose, warm_start=warm_start, momentum=momentum,\n",
    "                        nesterovs_momentum=nesterovs_momentum, early_stopping=early_stopping,\n",
    "                        validation_fraction=validation_fraction, beta_1=beta_1, beta_2=beta_2,\n",
    "                        epsilon=epsilon, n_iter_no_change=n_iter_no_change, max_fun=max_fun)\n",
    "\n",
    "    # Gebruik kruisvalidatie om de prestaties te beoordelen\n",
    "    scores = cross_val_score(clf, X, y, cv=5, scoring='accuracy')\n",
    "    return np.mean(scores),\n"
   ]
  },
  {
   "cell_type": "code",
   "execution_count": 5,
   "metadata": {},
   "outputs": [
    {
     "ename": "ValueError",
     "evalue": "\nAll the 5 fits failed.\nIt is very likely that your model is misconfigured.\nYou can try to debug the error by setting error_score='raise'.\n\nBelow are more details about the failures:\n--------------------------------------------------------------------------------\n5 fits failed with the following error:\nTraceback (most recent call last):\n  File \"d:\\Miscelanious\\Important\\Python-3.11.5\\Lib\\site-packages\\sklearn\\model_selection\\_validation.py\", line 729, in _fit_and_score\n    estimator.fit(X_train, y_train, **fit_params)\n  File \"d:\\Miscelanious\\Important\\Python-3.11.5\\Lib\\site-packages\\sklearn\\base.py\", line 1145, in wrapper\n    estimator._validate_params()\n  File \"d:\\Miscelanious\\Important\\Python-3.11.5\\Lib\\site-packages\\sklearn\\base.py\", line 638, in _validate_params\n    validate_parameter_constraints(\n  File \"d:\\Miscelanious\\Important\\Python-3.11.5\\Lib\\site-packages\\sklearn\\utils\\_param_validation.py\", line 95, in validate_parameter_constraints\n    raise InvalidParameterError(\nsklearn.utils._param_validation.InvalidParameterError: The 'beta_1' parameter of MLPClassifier must be a float in the range [0.0, 1.0). Got -0.7275170835265365 instead.\n",
     "output_type": "error",
     "traceback": [
      "\u001b[1;31m---------------------------------------------------------------------------\u001b[0m",
      "\u001b[1;31mValueError\u001b[0m                                Traceback (most recent call last)",
      "\u001b[1;32md:\\School\\BD02\\BLok_1_2023\\PI7\\inlevererereopdracht-2\\inlverer opdracht 2\\inleveropdracht 2.ipynb Cell 5\u001b[0m line \u001b[0;36m2\n\u001b[0;32m     <a href='vscode-notebook-cell:/d%3A/School/BD02/BLok_1_2023/PI7/inlevererereopdracht-2/inlverer%20opdracht%202/inleveropdracht%202.ipynb#W4sZmlsZQ%3D%3D?line=25'>26</a>\u001b[0m population \u001b[39m=\u001b[39m toolbox\u001b[39m.\u001b[39mpopulation(n\u001b[39m=\u001b[39mpop_size)\n\u001b[0;32m     <a href='vscode-notebook-cell:/d%3A/School/BD02/BLok_1_2023/PI7/inlevererereopdracht-2/inlverer%20opdracht%202/inleveropdracht%202.ipynb#W4sZmlsZQ%3D%3D?line=27'>28</a>\u001b[0m \u001b[39m# Draai het genetisch algoritme\u001b[39;00m\n\u001b[1;32m---> <a href='vscode-notebook-cell:/d%3A/School/BD02/BLok_1_2023/PI7/inlevererereopdracht-2/inlverer%20opdracht%202/inleveropdracht%202.ipynb#W4sZmlsZQ%3D%3D?line=28'>29</a>\u001b[0m algorithms\u001b[39m.\u001b[39;49meaMuPlusLambda(population, toolbox, mu\u001b[39m=\u001b[39;49mpop_size, lambda_\u001b[39m=\u001b[39;49mpop_size, cxpb\u001b[39m=\u001b[39;49mcxpb, mutpb\u001b[39m=\u001b[39;49mmutpb, ngen\u001b[39m=\u001b[39;49mngen, stats\u001b[39m=\u001b[39;49m\u001b[39mNone\u001b[39;49;00m, halloffame\u001b[39m=\u001b[39;49m\u001b[39mNone\u001b[39;49;00m)\n\u001b[0;32m     <a href='vscode-notebook-cell:/d%3A/School/BD02/BLok_1_2023/PI7/inlevererereopdracht-2/inlverer%20opdracht%202/inleveropdracht%202.ipynb#W4sZmlsZQ%3D%3D?line=30'>31</a>\u001b[0m \u001b[39m# Toon het beste individu\u001b[39;00m\n\u001b[0;32m     <a href='vscode-notebook-cell:/d%3A/School/BD02/BLok_1_2023/PI7/inlevererereopdracht-2/inlverer%20opdracht%202/inleveropdracht%202.ipynb#W4sZmlsZQ%3D%3D?line=31'>32</a>\u001b[0m best_ind \u001b[39m=\u001b[39m tools\u001b[39m.\u001b[39mselBest(population, k\u001b[39m=\u001b[39m\u001b[39m1\u001b[39m)[\u001b[39m0\u001b[39m]\n",
      "File \u001b[1;32md:\\Miscelanious\\Important\\Python-3.11.5\\Lib\\site-packages\\deap\\algorithms.py:302\u001b[0m, in \u001b[0;36meaMuPlusLambda\u001b[1;34m(population, toolbox, mu, lambda_, cxpb, mutpb, ngen, stats, halloffame, verbose)\u001b[0m\n\u001b[0;32m    300\u001b[0m invalid_ind \u001b[39m=\u001b[39m [ind \u001b[39mfor\u001b[39;00m ind \u001b[39min\u001b[39;00m population \u001b[39mif\u001b[39;00m \u001b[39mnot\u001b[39;00m ind\u001b[39m.\u001b[39mfitness\u001b[39m.\u001b[39mvalid]\n\u001b[0;32m    301\u001b[0m fitnesses \u001b[39m=\u001b[39m toolbox\u001b[39m.\u001b[39mmap(toolbox\u001b[39m.\u001b[39mevaluate, invalid_ind)\n\u001b[1;32m--> 302\u001b[0m \u001b[39mfor\u001b[39;49;00m ind, fit \u001b[39min\u001b[39;49;00m \u001b[39mzip\u001b[39;49m(invalid_ind, fitnesses):\n\u001b[0;32m    303\u001b[0m     ind\u001b[39m.\u001b[39;49mfitness\u001b[39m.\u001b[39;49mvalues \u001b[39m=\u001b[39;49m fit\n\u001b[0;32m    305\u001b[0m \u001b[39mif\u001b[39;00m halloffame \u001b[39mis\u001b[39;00m \u001b[39mnot\u001b[39;00m \u001b[39mNone\u001b[39;00m:\n",
      "\u001b[1;32md:\\School\\BD02\\BLok_1_2023\\PI7\\inlevererereopdracht-2\\inlverer opdracht 2\\inleveropdracht 2.ipynb Cell 5\u001b[0m line \u001b[0;36m3\n\u001b[0;32m     <a href='vscode-notebook-cell:/d%3A/School/BD02/BLok_1_2023/PI7/inlevererereopdracht-2/inlverer%20opdracht%202/inleveropdracht%202.ipynb#W4sZmlsZQ%3D%3D?line=25'>26</a>\u001b[0m clf \u001b[39m=\u001b[39m MLPClassifier(hidden_layer_sizes\u001b[39m=\u001b[39mhidden_layer_sizes, activation\u001b[39m=\u001b[39mactivation,\n\u001b[0;32m     <a href='vscode-notebook-cell:/d%3A/School/BD02/BLok_1_2023/PI7/inlevererereopdracht-2/inlverer%20opdracht%202/inleveropdracht%202.ipynb#W4sZmlsZQ%3D%3D?line=26'>27</a>\u001b[0m                     alpha\u001b[39m=\u001b[39malpha, learning_rate\u001b[39m=\u001b[39mlearning_rate, learning_rate_init\u001b[39m=\u001b[39mlearning_rate_init,\n\u001b[0;32m     <a href='vscode-notebook-cell:/d%3A/School/BD02/BLok_1_2023/PI7/inlevererereopdracht-2/inlverer%20opdracht%202/inleveropdracht%202.ipynb#W4sZmlsZQ%3D%3D?line=27'>28</a>\u001b[0m                     power_t\u001b[39m=\u001b[39mpower_t, max_iter\u001b[39m=\u001b[39mmax_iter, shuffle\u001b[39m=\u001b[39mshuffle, random_state\u001b[39m=\u001b[39mrandom_state,\n\u001b[1;32m   (...)\u001b[0m\n\u001b[0;32m     <a href='vscode-notebook-cell:/d%3A/School/BD02/BLok_1_2023/PI7/inlevererereopdracht-2/inlverer%20opdracht%202/inleveropdracht%202.ipynb#W4sZmlsZQ%3D%3D?line=30'>31</a>\u001b[0m                     validation_fraction\u001b[39m=\u001b[39mvalidation_fraction, beta_1\u001b[39m=\u001b[39mbeta_1, beta_2\u001b[39m=\u001b[39mbeta_2,\n\u001b[0;32m     <a href='vscode-notebook-cell:/d%3A/School/BD02/BLok_1_2023/PI7/inlevererereopdracht-2/inlverer%20opdracht%202/inleveropdracht%202.ipynb#W4sZmlsZQ%3D%3D?line=31'>32</a>\u001b[0m                     epsilon\u001b[39m=\u001b[39mepsilon, n_iter_no_change\u001b[39m=\u001b[39mn_iter_no_change, max_fun\u001b[39m=\u001b[39mmax_fun)\n\u001b[0;32m     <a href='vscode-notebook-cell:/d%3A/School/BD02/BLok_1_2023/PI7/inlevererereopdracht-2/inlverer%20opdracht%202/inleveropdracht%202.ipynb#W4sZmlsZQ%3D%3D?line=33'>34</a>\u001b[0m \u001b[39m# Gebruik kruisvalidatie om de prestaties te beoordelen\u001b[39;00m\n\u001b[1;32m---> <a href='vscode-notebook-cell:/d%3A/School/BD02/BLok_1_2023/PI7/inlevererereopdracht-2/inlverer%20opdracht%202/inleveropdracht%202.ipynb#W4sZmlsZQ%3D%3D?line=34'>35</a>\u001b[0m scores \u001b[39m=\u001b[39m cross_val_score(clf, X, y, cv\u001b[39m=\u001b[39;49m\u001b[39m5\u001b[39;49m, scoring\u001b[39m=\u001b[39;49m\u001b[39m'\u001b[39;49m\u001b[39maccuracy\u001b[39;49m\u001b[39m'\u001b[39;49m)\n\u001b[0;32m     <a href='vscode-notebook-cell:/d%3A/School/BD02/BLok_1_2023/PI7/inlevererereopdracht-2/inlverer%20opdracht%202/inleveropdracht%202.ipynb#W4sZmlsZQ%3D%3D?line=35'>36</a>\u001b[0m \u001b[39mreturn\u001b[39;00m np\u001b[39m.\u001b[39mmean(scores),\n",
      "File \u001b[1;32md:\\Miscelanious\\Important\\Python-3.11.5\\Lib\\site-packages\\sklearn\\model_selection\\_validation.py:562\u001b[0m, in \u001b[0;36mcross_val_score\u001b[1;34m(estimator, X, y, groups, scoring, cv, n_jobs, verbose, fit_params, pre_dispatch, error_score)\u001b[0m\n\u001b[0;32m    559\u001b[0m \u001b[39m# To ensure multimetric format is not supported\u001b[39;00m\n\u001b[0;32m    560\u001b[0m scorer \u001b[39m=\u001b[39m check_scoring(estimator, scoring\u001b[39m=\u001b[39mscoring)\n\u001b[1;32m--> 562\u001b[0m cv_results \u001b[39m=\u001b[39m cross_validate(\n\u001b[0;32m    563\u001b[0m     estimator\u001b[39m=\u001b[39;49mestimator,\n\u001b[0;32m    564\u001b[0m     X\u001b[39m=\u001b[39;49mX,\n\u001b[0;32m    565\u001b[0m     y\u001b[39m=\u001b[39;49my,\n\u001b[0;32m    566\u001b[0m     groups\u001b[39m=\u001b[39;49mgroups,\n\u001b[0;32m    567\u001b[0m     scoring\u001b[39m=\u001b[39;49m{\u001b[39m\"\u001b[39;49m\u001b[39mscore\u001b[39;49m\u001b[39m\"\u001b[39;49m: scorer},\n\u001b[0;32m    568\u001b[0m     cv\u001b[39m=\u001b[39;49mcv,\n\u001b[0;32m    569\u001b[0m     n_jobs\u001b[39m=\u001b[39;49mn_jobs,\n\u001b[0;32m    570\u001b[0m     verbose\u001b[39m=\u001b[39;49mverbose,\n\u001b[0;32m    571\u001b[0m     fit_params\u001b[39m=\u001b[39;49mfit_params,\n\u001b[0;32m    572\u001b[0m     pre_dispatch\u001b[39m=\u001b[39;49mpre_dispatch,\n\u001b[0;32m    573\u001b[0m     error_score\u001b[39m=\u001b[39;49merror_score,\n\u001b[0;32m    574\u001b[0m )\n\u001b[0;32m    575\u001b[0m \u001b[39mreturn\u001b[39;00m cv_results[\u001b[39m\"\u001b[39m\u001b[39mtest_score\u001b[39m\u001b[39m\"\u001b[39m]\n",
      "File \u001b[1;32md:\\Miscelanious\\Important\\Python-3.11.5\\Lib\\site-packages\\sklearn\\utils\\_param_validation.py:211\u001b[0m, in \u001b[0;36mvalidate_params.<locals>.decorator.<locals>.wrapper\u001b[1;34m(*args, **kwargs)\u001b[0m\n\u001b[0;32m    205\u001b[0m \u001b[39mtry\u001b[39;00m:\n\u001b[0;32m    206\u001b[0m     \u001b[39mwith\u001b[39;00m config_context(\n\u001b[0;32m    207\u001b[0m         skip_parameter_validation\u001b[39m=\u001b[39m(\n\u001b[0;32m    208\u001b[0m             prefer_skip_nested_validation \u001b[39mor\u001b[39;00m global_skip_validation\n\u001b[0;32m    209\u001b[0m         )\n\u001b[0;32m    210\u001b[0m     ):\n\u001b[1;32m--> 211\u001b[0m         \u001b[39mreturn\u001b[39;00m func(\u001b[39m*\u001b[39;49margs, \u001b[39m*\u001b[39;49m\u001b[39m*\u001b[39;49mkwargs)\n\u001b[0;32m    212\u001b[0m \u001b[39mexcept\u001b[39;00m InvalidParameterError \u001b[39mas\u001b[39;00m e:\n\u001b[0;32m    213\u001b[0m     \u001b[39m# When the function is just a wrapper around an estimator, we allow\u001b[39;00m\n\u001b[0;32m    214\u001b[0m     \u001b[39m# the function to delegate validation to the estimator, but we replace\u001b[39;00m\n\u001b[0;32m    215\u001b[0m     \u001b[39m# the name of the estimator by the name of the function in the error\u001b[39;00m\n\u001b[0;32m    216\u001b[0m     \u001b[39m# message to avoid confusion.\u001b[39;00m\n\u001b[0;32m    217\u001b[0m     msg \u001b[39m=\u001b[39m re\u001b[39m.\u001b[39msub(\n\u001b[0;32m    218\u001b[0m         \u001b[39mr\u001b[39m\u001b[39m\"\u001b[39m\u001b[39mparameter of \u001b[39m\u001b[39m\\\u001b[39m\u001b[39mw+ must be\u001b[39m\u001b[39m\"\u001b[39m,\n\u001b[0;32m    219\u001b[0m         \u001b[39mf\u001b[39m\u001b[39m\"\u001b[39m\u001b[39mparameter of \u001b[39m\u001b[39m{\u001b[39;00mfunc\u001b[39m.\u001b[39m\u001b[39m__qualname__\u001b[39m\u001b[39m}\u001b[39;00m\u001b[39m must be\u001b[39m\u001b[39m\"\u001b[39m,\n\u001b[0;32m    220\u001b[0m         \u001b[39mstr\u001b[39m(e),\n\u001b[0;32m    221\u001b[0m     )\n",
      "File \u001b[1;32md:\\Miscelanious\\Important\\Python-3.11.5\\Lib\\site-packages\\sklearn\\model_selection\\_validation.py:328\u001b[0m, in \u001b[0;36mcross_validate\u001b[1;34m(estimator, X, y, groups, scoring, cv, n_jobs, verbose, fit_params, pre_dispatch, return_train_score, return_estimator, return_indices, error_score)\u001b[0m\n\u001b[0;32m    308\u001b[0m parallel \u001b[39m=\u001b[39m Parallel(n_jobs\u001b[39m=\u001b[39mn_jobs, verbose\u001b[39m=\u001b[39mverbose, pre_dispatch\u001b[39m=\u001b[39mpre_dispatch)\n\u001b[0;32m    309\u001b[0m results \u001b[39m=\u001b[39m parallel(\n\u001b[0;32m    310\u001b[0m     delayed(_fit_and_score)(\n\u001b[0;32m    311\u001b[0m         clone(estimator),\n\u001b[1;32m   (...)\u001b[0m\n\u001b[0;32m    325\u001b[0m     \u001b[39mfor\u001b[39;00m train, test \u001b[39min\u001b[39;00m indices\n\u001b[0;32m    326\u001b[0m )\n\u001b[1;32m--> 328\u001b[0m _warn_or_raise_about_fit_failures(results, error_score)\n\u001b[0;32m    330\u001b[0m \u001b[39m# For callable scoring, the return type is only know after calling. If the\u001b[39;00m\n\u001b[0;32m    331\u001b[0m \u001b[39m# return type is a dictionary, the error scores can now be inserted with\u001b[39;00m\n\u001b[0;32m    332\u001b[0m \u001b[39m# the correct key.\u001b[39;00m\n\u001b[0;32m    333\u001b[0m \u001b[39mif\u001b[39;00m \u001b[39mcallable\u001b[39m(scoring):\n",
      "File \u001b[1;32md:\\Miscelanious\\Important\\Python-3.11.5\\Lib\\site-packages\\sklearn\\model_selection\\_validation.py:414\u001b[0m, in \u001b[0;36m_warn_or_raise_about_fit_failures\u001b[1;34m(results, error_score)\u001b[0m\n\u001b[0;32m    407\u001b[0m \u001b[39mif\u001b[39;00m num_failed_fits \u001b[39m==\u001b[39m num_fits:\n\u001b[0;32m    408\u001b[0m     all_fits_failed_message \u001b[39m=\u001b[39m (\n\u001b[0;32m    409\u001b[0m         \u001b[39mf\u001b[39m\u001b[39m\"\u001b[39m\u001b[39m\\n\u001b[39;00m\u001b[39mAll the \u001b[39m\u001b[39m{\u001b[39;00mnum_fits\u001b[39m}\u001b[39;00m\u001b[39m fits failed.\u001b[39m\u001b[39m\\n\u001b[39;00m\u001b[39m\"\u001b[39m\n\u001b[0;32m    410\u001b[0m         \u001b[39m\"\u001b[39m\u001b[39mIt is very likely that your model is misconfigured.\u001b[39m\u001b[39m\\n\u001b[39;00m\u001b[39m\"\u001b[39m\n\u001b[0;32m    411\u001b[0m         \u001b[39m\"\u001b[39m\u001b[39mYou can try to debug the error by setting error_score=\u001b[39m\u001b[39m'\u001b[39m\u001b[39mraise\u001b[39m\u001b[39m'\u001b[39m\u001b[39m.\u001b[39m\u001b[39m\\n\u001b[39;00m\u001b[39m\\n\u001b[39;00m\u001b[39m\"\u001b[39m\n\u001b[0;32m    412\u001b[0m         \u001b[39mf\u001b[39m\u001b[39m\"\u001b[39m\u001b[39mBelow are more details about the failures:\u001b[39m\u001b[39m\\n\u001b[39;00m\u001b[39m{\u001b[39;00mfit_errors_summary\u001b[39m}\u001b[39;00m\u001b[39m\"\u001b[39m\n\u001b[0;32m    413\u001b[0m     )\n\u001b[1;32m--> 414\u001b[0m     \u001b[39mraise\u001b[39;00m \u001b[39mValueError\u001b[39;00m(all_fits_failed_message)\n\u001b[0;32m    416\u001b[0m \u001b[39melse\u001b[39;00m:\n\u001b[0;32m    417\u001b[0m     some_fits_failed_message \u001b[39m=\u001b[39m (\n\u001b[0;32m    418\u001b[0m         \u001b[39mf\u001b[39m\u001b[39m\"\u001b[39m\u001b[39m\\n\u001b[39;00m\u001b[39m{\u001b[39;00mnum_failed_fits\u001b[39m}\u001b[39;00m\u001b[39m fits failed out of a total of \u001b[39m\u001b[39m{\u001b[39;00mnum_fits\u001b[39m}\u001b[39;00m\u001b[39m.\u001b[39m\u001b[39m\\n\u001b[39;00m\u001b[39m\"\u001b[39m\n\u001b[0;32m    419\u001b[0m         \u001b[39m\"\u001b[39m\u001b[39mThe score on these train-test partitions for these parameters\u001b[39m\u001b[39m\"\u001b[39m\n\u001b[1;32m   (...)\u001b[0m\n\u001b[0;32m    423\u001b[0m         \u001b[39mf\u001b[39m\u001b[39m\"\u001b[39m\u001b[39mBelow are more details about the failures:\u001b[39m\u001b[39m\\n\u001b[39;00m\u001b[39m{\u001b[39;00mfit_errors_summary\u001b[39m}\u001b[39;00m\u001b[39m\"\u001b[39m\n\u001b[0;32m    424\u001b[0m     )\n",
      "\u001b[1;31mValueError\u001b[0m: \nAll the 5 fits failed.\nIt is very likely that your model is misconfigured.\nYou can try to debug the error by setting error_score='raise'.\n\nBelow are more details about the failures:\n--------------------------------------------------------------------------------\n5 fits failed with the following error:\nTraceback (most recent call last):\n  File \"d:\\Miscelanious\\Important\\Python-3.11.5\\Lib\\site-packages\\sklearn\\model_selection\\_validation.py\", line 729, in _fit_and_score\n    estimator.fit(X_train, y_train, **fit_params)\n  File \"d:\\Miscelanious\\Important\\Python-3.11.5\\Lib\\site-packages\\sklearn\\base.py\", line 1145, in wrapper\n    estimator._validate_params()\n  File \"d:\\Miscelanious\\Important\\Python-3.11.5\\Lib\\site-packages\\sklearn\\base.py\", line 638, in _validate_params\n    validate_parameter_constraints(\n  File \"d:\\Miscelanious\\Important\\Python-3.11.5\\Lib\\site-packages\\sklearn\\utils\\_param_validation.py\", line 95, in validate_parameter_constraints\n    raise InvalidParameterError(\nsklearn.utils._param_validation.InvalidParameterError: The 'beta_1' parameter of MLPClassifier must be a float in the range [0.0, 1.0). Got -0.7275170835265365 instead.\n"
     ]
    }
   ],
   "source": [
    "# DEAP initialisatie\n",
    "creator.create(\"FitnessMax\", base.Fitness, weights=(1.0,))\n",
    "creator.create(\"Individual\", np.ndarray, fitness=creator.FitnessMax)\n",
    "toolbox = base.Toolbox()\n",
    "\n",
    "toolbox.register(\"attr_float\", random.uniform, -3, 3)  # Hyperparameters bounds\n",
    "toolbox.register(\"individual\", tools.initRepeat, creator.Individual, toolbox.attr_float, n=5)\n",
    "toolbox.register(\"population\", tools.initRepeat, list, toolbox.individual)\n",
    "\n",
    "toolbox.register(\"evaluate\", evaluate_individual)\n",
    "toolbox.register(\"mate\", tools.cxTwoPoint)\n",
    "toolbox.register(\"mutate\", tools.mutGaussian, mu=0, sigma=1, indpb=0.2)\n",
    "toolbox.register(\"select\", tools.selTournament, tournsize=3)\n",
    "\n",
    "if __name__ == '__main__':\n",
    "    # Laad gegevens\n",
    "    data = load_iris()\n",
    "    X, y = data.data, data.target\n",
    "# Definieer parameters voor het genetisch algoritme\n",
    "    pop_size = 10\n",
    "    ngen = 10\n",
    "    cxpb = 0.7\n",
    "    mutpb = 0.2\n",
    "\n",
    "    # Creëer de populatie\n",
    "    population = toolbox.population(n=pop_size)\n",
    "\n",
    "    # Draai het genetisch algoritme\n",
    "    algorithms.eaMuPlusLambda(population, toolbox, mu=pop_size, lambda_=pop_size, cxpb=cxpb, mutpb=mutpb, ngen=ngen, stats=None, halloffame=None)\n",
    "\n",
    "    # Toon het beste individu\n",
    "    best_ind = tools.selBest(population, k=1)[0]\n",
    "    print(\"Best individual:\", best_ind)\n",
    "    print(\"Best hyperparameters:\", [int(best_ind[0]), ['identity', 'logistic', 'tanh', 'relu'][int(best_ind[1])], 10 ** best_ind[2], ['constant', 'invscaling', 'adaptive'][int(best_ind[3])], 10 ** best_ind[4]])\n"
   ]
  },
  {
   "cell_type": "code",
   "execution_count": null,
   "metadata": {},
   "outputs": [],
   "source": []
  }
 ],
 "metadata": {
  "kernelspec": {
   "display_name": "Python 3",
   "language": "python",
   "name": "python3"
  },
  "language_info": {
   "codemirror_mode": {
    "name": "ipython",
    "version": 3
   },
   "file_extension": ".py",
   "mimetype": "text/x-python",
   "name": "python",
   "nbconvert_exporter": "python",
   "pygments_lexer": "ipython3",
   "version": "3.11.5"
  }
 },
 "nbformat": 4,
 "nbformat_minor": 2
}
