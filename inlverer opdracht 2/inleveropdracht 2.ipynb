{
 "cells": [
  {
   "cell_type": "code",
   "execution_count": 36,
   "metadata": {},
   "outputs": [],
   "source": [
    "import random\n",
    "import numpy as np\n",
    "from deap import base, creator, tools, algorithms\n",
    "from sklearn.neural_network import MLPClassifier\n",
    "from sklearn.datasets import load_iris\n",
    "from sklearn.model_selection import cross_val_score\n",
    "import warnings\n",
    "import sklearn"
   ]
  },
  {
   "cell_type": "code",
   "execution_count": 37,
   "metadata": {},
   "outputs": [],
   "source": [
    "warnings.filterwarnings(\"ignore\")"
   ]
  },
  {
   "cell_type": "code",
   "execution_count": 38,
   "metadata": {},
   "outputs": [],
   "source": [
    "MLPRegressors= sklearn.neural_network.MLPRegressor"
   ]
  },
  {
   "cell_type": "code",
   "execution_count": 39,
   "metadata": {},
   "outputs": [],
   "source": [
    "def evaluate_individual(ind):\n",
    "    # Decodeer hyperparameters\n",
    "    hidden_layer_sizes = tuple(int(max(1, round(x))) for x in ind[0:6])  # Zorg ervoor dat er minstens één neuron is\n",
    "    activation = ['identity', 'logistic', 'tanh', 'relu'][int(ind[4]) % 4]\n",
    "    alpha = 10 ** ind[4]\n",
    "    learning_rate = ['constant', 'invscaling', 'adaptive'][int(ind[4])]\n",
    "    learning_rate_init = 10 ** ind[3]\n",
    "    power_t = ind[10]  # Geef het een geschikt bereik of conversie als dat nodig is\n",
    "    max_iter = int(ind[11])  # Zorg ervoor dat dit een geheel getal is\n",
    "    shuffle = bool(int(ind[12]))  # Converteer naar een bool-waarde (0 of 1)\n",
    "    random_state = int(ind[13]) if ind[13] >= 0 else None  # Zorg ervoor dat het een positief getal is of None\n",
    "    tol = 10 ** ind[14]\n",
    "    verbose = bool(int(ind[15]))  # Converteer naar een bool-waarde (0 of 1)\n",
    "    warm_start = bool(int(ind[16]))  # Converteer naar een bool-waarde (0 of 1)\n",
    "    momentum = ind[17]  # Geef het een geschikt bereik of conversie als dat nodig is\n",
    "    nesterovs_momentum = bool(int(ind[18]))  # Converteer naar een bool-waarde (0 of 1)\n",
    "    early_stopping = bool(int(ind[19]))  # Converteer naar een bool-waarde (0 of 1)\n",
    "    validation_fraction = ind[20]  # Geef het een geschikt bereik of conversie als dat nodig is\n",
    "    beta_1 = (ind[21] + 1.0) / 2.0  # Geef het een geschikt bereik of conversie als dat nodig is\n",
    "    beta_2 = (ind[22] + 1.0) / 2.0  # Geef het een geschikt bereik of conversie als dat nodig is\n",
    "    epsilon = 10 ** ind[23]\n",
    "    n_iter_no_change = int(ind[24])  # Zorg ervoor dat dit een geheel getal is\n",
    "    max_fun = max(1, int(ind[4]))  # Zorg ervoor dat dit een geheel getal is  \n",
    "\n",
    "    # Controleer of de hyperparameters binnen de gewenste bereiken liggen\n",
    "    if not (0.0 <= alpha <= 1.0 and 0.0 <= power_t <= 1.0 and max_iter > 0 and tol > 0.0):\n",
    "        return -1.0,  # Als een van de hyperparameters buiten het gewenste bereik ligt, retourneer een lage fitnesswaarde\n",
    "\n",
    "    # Bouw en evalueer het neurale netwerk\n",
    "    clf = MLPClassifier(hidden_layer_sizes=hidden_layer_sizes, activation=activation,\n",
    "                        alpha=alpha, learning_rate=learning_rate, learning_rate_init=learning_rate_init,\n",
    "                        power_t=power_t, max_iter=max_iter, shuffle=shuffle, random_state=random_state,\n",
    "                        tol=tol, verbose=verbose, warm_start=warm_start, momentum=momentum,\n",
    "                        nesterovs_momentum=nesterovs_momentum, early_stopping=early_stopping,\n",
    "                        validation_fraction=validation_fraction, beta_1=beta_1, beta_2=beta_2,\n",
    "                        epsilon=epsilon, n_iter_no_change=n_iter_no_change, max_fun=max_fun)\n",
    "\n",
    "    # Gebruik kruisvalidatie om de prestaties te beoordelen\n",
    "    scores = cross_val_score(clf, X, y, cv=5, scoring='accuracy')\n",
    "    return np.mean(scores),"
   ]
  },
  {
   "cell_type": "code",
   "execution_count": 40,
   "metadata": {},
   "outputs": [
    {
     "ename": "IndexError",
     "evalue": "index 10 is out of bounds for axis 0 with size 5",
     "output_type": "error",
     "traceback": [
      "\u001b[1;31m---------------------------------------------------------------------------\u001b[0m",
      "\u001b[1;31mIndexError\u001b[0m                                Traceback (most recent call last)",
      "\u001b[1;32mc:\\Users\\maxgo\\Desktop\\inlverer opdracht 2\\inlevererereopdracht-2\\inlverer opdracht 2\\inleveropdracht 2.ipynb Cell 5\u001b[0m line \u001b[0;36m2\n\u001b[0;32m     <a href='vscode-notebook-cell:/c%3A/Users/maxgo/Desktop/inlverer%20opdracht%202/inlevererereopdracht-2/inlverer%20opdracht%202/inleveropdracht%202.ipynb#W4sZmlsZQ%3D%3D?line=25'>26</a>\u001b[0m population \u001b[39m=\u001b[39m toolbox\u001b[39m.\u001b[39mpopulation(n\u001b[39m=\u001b[39mpop_size)\n\u001b[0;32m     <a href='vscode-notebook-cell:/c%3A/Users/maxgo/Desktop/inlverer%20opdracht%202/inlevererereopdracht-2/inlverer%20opdracht%202/inleveropdracht%202.ipynb#W4sZmlsZQ%3D%3D?line=27'>28</a>\u001b[0m \u001b[39m# Draai het genetisch algoritme\u001b[39;00m\n\u001b[1;32m---> <a href='vscode-notebook-cell:/c%3A/Users/maxgo/Desktop/inlverer%20opdracht%202/inlevererereopdracht-2/inlverer%20opdracht%202/inleveropdracht%202.ipynb#W4sZmlsZQ%3D%3D?line=28'>29</a>\u001b[0m algorithms\u001b[39m.\u001b[39;49meaMuPlusLambda(population, toolbox, mu\u001b[39m=\u001b[39;49mpop_size, lambda_\u001b[39m=\u001b[39;49mpop_size, cxpb\u001b[39m=\u001b[39;49mcxpb, mutpb\u001b[39m=\u001b[39;49mmutpb, ngen\u001b[39m=\u001b[39;49mngen, stats\u001b[39m=\u001b[39;49m\u001b[39mNone\u001b[39;49;00m, halloffame\u001b[39m=\u001b[39;49m\u001b[39mNone\u001b[39;49;00m)\n\u001b[0;32m     <a href='vscode-notebook-cell:/c%3A/Users/maxgo/Desktop/inlverer%20opdracht%202/inlevererereopdracht-2/inlverer%20opdracht%202/inleveropdracht%202.ipynb#W4sZmlsZQ%3D%3D?line=30'>31</a>\u001b[0m \u001b[39m# Toon het beste individu\u001b[39;00m\n\u001b[0;32m     <a href='vscode-notebook-cell:/c%3A/Users/maxgo/Desktop/inlverer%20opdracht%202/inlevererereopdracht-2/inlverer%20opdracht%202/inleveropdracht%202.ipynb#W4sZmlsZQ%3D%3D?line=31'>32</a>\u001b[0m best_ind \u001b[39m=\u001b[39m tools\u001b[39m.\u001b[39mselBest(population, k\u001b[39m=\u001b[39m\u001b[39m1\u001b[39m)[\u001b[39m0\u001b[39m]\n",
      "File \u001b[1;32mc:\\Users\\maxgo\\AppData\\Local\\Programs\\Python\\Python311\\Lib\\site-packages\\deap\\algorithms.py:302\u001b[0m, in \u001b[0;36meaMuPlusLambda\u001b[1;34m(population, toolbox, mu, lambda_, cxpb, mutpb, ngen, stats, halloffame, verbose)\u001b[0m\n\u001b[0;32m    300\u001b[0m invalid_ind \u001b[39m=\u001b[39m [ind \u001b[39mfor\u001b[39;00m ind \u001b[39min\u001b[39;00m population \u001b[39mif\u001b[39;00m \u001b[39mnot\u001b[39;00m ind\u001b[39m.\u001b[39mfitness\u001b[39m.\u001b[39mvalid]\n\u001b[0;32m    301\u001b[0m fitnesses \u001b[39m=\u001b[39m toolbox\u001b[39m.\u001b[39mmap(toolbox\u001b[39m.\u001b[39mevaluate, invalid_ind)\n\u001b[1;32m--> 302\u001b[0m \u001b[39mfor\u001b[39;00m ind, fit \u001b[39min\u001b[39;00m \u001b[39mzip\u001b[39m(invalid_ind, fitnesses):\n\u001b[0;32m    303\u001b[0m     ind\u001b[39m.\u001b[39mfitness\u001b[39m.\u001b[39mvalues \u001b[39m=\u001b[39m fit\n\u001b[0;32m    305\u001b[0m \u001b[39mif\u001b[39;00m halloffame \u001b[39mis\u001b[39;00m \u001b[39mnot\u001b[39;00m \u001b[39mNone\u001b[39;00m:\n",
      "\u001b[1;32mc:\\Users\\maxgo\\Desktop\\inlverer opdracht 2\\inlevererereopdracht-2\\inlverer opdracht 2\\inleveropdracht 2.ipynb Cell 5\u001b[0m line \u001b[0;36m8\n\u001b[0;32m      <a href='vscode-notebook-cell:/c%3A/Users/maxgo/Desktop/inlverer%20opdracht%202/inlevererereopdracht-2/inlverer%20opdracht%202/inleveropdracht%202.ipynb#W4sZmlsZQ%3D%3D?line=5'>6</a>\u001b[0m learning_rate \u001b[39m=\u001b[39m [\u001b[39m'\u001b[39m\u001b[39mconstant\u001b[39m\u001b[39m'\u001b[39m, \u001b[39m'\u001b[39m\u001b[39minvscaling\u001b[39m\u001b[39m'\u001b[39m, \u001b[39m'\u001b[39m\u001b[39madaptive\u001b[39m\u001b[39m'\u001b[39m][\u001b[39mint\u001b[39m(ind[\u001b[39m4\u001b[39m])]\n\u001b[0;32m      <a href='vscode-notebook-cell:/c%3A/Users/maxgo/Desktop/inlverer%20opdracht%202/inlevererereopdracht-2/inlverer%20opdracht%202/inleveropdracht%202.ipynb#W4sZmlsZQ%3D%3D?line=6'>7</a>\u001b[0m learning_rate_init \u001b[39m=\u001b[39m \u001b[39m10\u001b[39m \u001b[39m*\u001b[39m\u001b[39m*\u001b[39m ind[\u001b[39m3\u001b[39m]\n\u001b[1;32m----> <a href='vscode-notebook-cell:/c%3A/Users/maxgo/Desktop/inlverer%20opdracht%202/inlevererereopdracht-2/inlverer%20opdracht%202/inleveropdracht%202.ipynb#W4sZmlsZQ%3D%3D?line=7'>8</a>\u001b[0m power_t \u001b[39m=\u001b[39m ind[\u001b[39m10\u001b[39;49m]  \u001b[39m# Geef het een geschikt bereik of conversie als dat nodig is\u001b[39;00m\n\u001b[0;32m      <a href='vscode-notebook-cell:/c%3A/Users/maxgo/Desktop/inlverer%20opdracht%202/inlevererereopdracht-2/inlverer%20opdracht%202/inleveropdracht%202.ipynb#W4sZmlsZQ%3D%3D?line=8'>9</a>\u001b[0m max_iter \u001b[39m=\u001b[39m \u001b[39mint\u001b[39m(ind[\u001b[39m11\u001b[39m])  \u001b[39m# Zorg ervoor dat dit een geheel getal is\u001b[39;00m\n\u001b[0;32m     <a href='vscode-notebook-cell:/c%3A/Users/maxgo/Desktop/inlverer%20opdracht%202/inlevererereopdracht-2/inlverer%20opdracht%202/inleveropdracht%202.ipynb#W4sZmlsZQ%3D%3D?line=9'>10</a>\u001b[0m shuffle \u001b[39m=\u001b[39m \u001b[39mbool\u001b[39m(\u001b[39mint\u001b[39m(ind[\u001b[39m12\u001b[39m]))  \u001b[39m# Converteer naar een bool-waarde (0 of 1)\u001b[39;00m\n",
      "\u001b[1;31mIndexError\u001b[0m: index 10 is out of bounds for axis 0 with size 5"
     ]
    }
   ],
   "source": [
    "# DEAP initialisatie\n",
    "creator.create(\"FitnessMax\", base.Fitness, weights=(1.0,))\n",
    "creator.create(\"Individual\", np.ndarray, fitness=creator.FitnessMax)\n",
    "toolbox = base.Toolbox()\n",
    "\n",
    "toolbox.register(\"attr_float\", random.uniform, -3, 3)  # Hyperparameters bounds\n",
    "toolbox.register(\"individual\", tools.initRepeat, creator.Individual, toolbox.attr_float, n=5)\n",
    "toolbox.register(\"population\", tools.initRepeat, list, toolbox.individual)\n",
    "\n",
    "toolbox.register(\"evaluate\", evaluate_individual)\n",
    "toolbox.register(\"mate\", tools.cxTwoPoint)\n",
    "toolbox.register(\"mutate\", tools.mutGaussian, mu=0, sigma=1, indpb=0.2)\n",
    "toolbox.register(\"select\", tools.selTournament, tournsize=3)\n",
    "\n",
    "if __name__ == '__main__':\n",
    "    # Laad gegevens\n",
    "    data = load_iris()\n",
    "    X, y = data.data, data.target\n",
    "# Definieer parameters voor het genetisch algoritme\n",
    "    pop_size = 10\n",
    "    ngen = 10\n",
    "    cxpb = 0.7\n",
    "    mutpb = 0.2\n",
    "\n",
    "    # Creëer de populatie\n",
    "    population = toolbox.population(n=pop_size)\n",
    "\n",
    "    # Draai het genetisch algoritme\n",
    "    algorithms.eaMuPlusLambda(population, toolbox, mu=pop_size, lambda_=pop_size, cxpb=cxpb, mutpb=mutpb, ngen=ngen, stats=None, halloffame=None)\n",
    "\n",
    "    # Toon het beste individu\n",
    "    best_ind = tools.selBest(population, k=1)[0]\n",
    "    print(\"Best individual:\", best_ind)\n",
    "    print(\"Best hyperparameters:\", [int(best_ind[0]), ['identity', 'logistic', 'tanh', 'relu'][int(best_ind[1])], 10 ** best_ind[2], ['constant', 'invscaling', 'adaptive'][int(best_ind[3])], 10 ** best_ind[4]])"
   ]
  },
  {
   "cell_type": "code",
   "execution_count": null,
   "metadata": {},
   "outputs": [],
   "source": []
  }
 ],
 "metadata": {
  "kernelspec": {
   "display_name": "Python 3",
   "language": "python",
   "name": "python3"
  },
  "language_info": {
   "codemirror_mode": {
    "name": "ipython",
    "version": 3
   },
   "file_extension": ".py",
   "mimetype": "text/x-python",
   "name": "python",
   "nbconvert_exporter": "python",
   "pygments_lexer": "ipython3",
   "version": "3.11.5"
  }
 },
 "nbformat": 4,
 "nbformat_minor": 2
}
